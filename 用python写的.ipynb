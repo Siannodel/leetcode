{
 "cells": [
  {
   "cell_type": "markdown",
   "metadata": {
    "heading_collapsed": true
   },
   "source": [
    "### 529"
   ]
  },
  {
   "cell_type": "code",
   "execution_count": 33,
   "metadata": {
    "hidden": true
   },
   "outputs": [],
   "source": [
    "class Solution:\n",
    "    def getAdjoinPoint(self, point, h, w):\n",
    "        points = []\n",
    "        for i in range(3):\n",
    "            for j in range(3):\n",
    "                if ((i != 1 or j != 1) and \n",
    "                    point[0]-1+i >= 0 and point[0]-1+i < w and \n",
    "                    point[1]-1+j >= 0 and point[1]-1+j < h):\n",
    "                    points.append([point[0]-1+i, point[1]-1+j])\n",
    "        return points\n",
    "    \n",
    "    def fun1(self, board, point):\n",
    "        \n",
    "        h = len(board)\n",
    "        w = len(board[0])\n",
    "        #邻接点\n",
    "        points = self.getAdjoinPoint(point, h, w)\n",
    "        #查找周围的雷\n",
    "        count = 0\n",
    "        for p in points:\n",
    "            if (board[p[1]][p[0]] == 'M'):\n",
    "                count+=1\n",
    "        #周围有雷 计数\n",
    "        if count != 0:\n",
    "            board[point[1]][point[0]] = str(count)\n",
    "            return\n",
    "        #没有雷 递归\n",
    "        board[point[1]][point[0]] = 'B'\n",
    "        for p in points:\n",
    "            if (board[p[1]][p[0]] == 'E'):\n",
    "                self.fun1(board, p)\n",
    "        return\n",
    "        \n",
    "        \n",
    "    def updateBoard(self, board, click):\n",
    "        h = len(board)\n",
    "        w = len(board[0])\n",
    "        x = click[1]\n",
    "        y = click[0]\n",
    "        #踩雷\n",
    "        if board[y][x] == 'M':\n",
    "            board[y][x] = 'X'\n",
    "            return board\n",
    "        self.fun1(board, [x,y])\n",
    "        return board"
   ]
  },
  {
   "cell_type": "code",
   "execution_count": 34,
   "metadata": {
    "hidden": true
   },
   "outputs": [],
   "source": [
    "s = Solution()\n",
    "board = [[\"E\",\"E\",\"E\",\"E\",\"E\"],[\"E\",\"E\",\"M\",\"E\",\"E\"],[\"E\",\"E\",\"E\",\"E\",\"E\"],[\"E\",\"E\",\"E\",\"E\",\"E\"]]\n",
    "click = [3,0]\n",
    "b = s.updateBoard(board, click)"
   ]
  },
  {
   "cell_type": "code",
   "execution_count": 35,
   "metadata": {
    "hidden": true
   },
   "outputs": [
    {
     "data": {
      "text/plain": [
       "[['B', '1', 'E', '1', 'B'],\n",
       " ['B', '1', 'M', '1', 'B'],\n",
       " ['B', '1', '1', '1', 'B'],\n",
       " ['B', 'B', 'B', 'B', 'B']]"
      ]
     },
     "execution_count": 35,
     "metadata": {},
     "output_type": "execute_result"
    }
   ],
   "source": [
    "b"
   ]
  },
  {
   "cell_type": "code",
   "execution_count": 19,
   "metadata": {
    "hidden": true
   },
   "outputs": [
    {
     "name": "stdout",
     "output_type": "stream",
     "text": [
      "0\n",
      "1\n",
      "2\n"
     ]
    }
   ],
   "source": [
    "for i in range(3):\n",
    "    print(i)"
   ]
  },
  {
   "cell_type": "markdown",
   "metadata": {
    "heading_collapsed": true
   },
   "source": [
    "### 1248"
   ]
  },
  {
   "cell_type": "code",
   "execution_count": null,
   "metadata": {
    "hidden": true
   },
   "outputs": [],
   "source": [
    "class Solution:\n",
    "    def numberOfSubarrays(self, nums, k):\n",
    "        tmp = []\n",
    "        count = 0\n",
    "        for i in nums:\n",
    "            if i%2==0:\n",
    "                count += 1\n",
    "            else:\n",
    "                tmp.append(count)\n",
    "                count = 0\n",
    "        tmp.append(count)\n",
    "        \n",
    "        if k > len(tmp) - 1:\n",
    "            return 0\n",
    "        s = 0\n",
    "        for i in range(k,len(tmp)):\n",
    "            s += (tmp[i-k]+1)*(tmp[i]+1)\n",
    "        return s"
   ]
  },
  {
   "cell_type": "markdown",
   "metadata": {},
   "source": [
    "### 301"
   ]
  },
  {
   "cell_type": "code",
   "execution_count": null,
   "metadata": {
    "code_folding": []
   },
   "outputs": [],
   "source": [
    "class Solution:\n",
    "    def is_valid(self, s):\n",
    "        l_n = 0\n",
    "        r_n = 0\n",
    "        for c in s:\n",
    "            if c == '(':\n",
    "                l_n += 1\n",
    "            elif c == ')':\n",
    "                if l_n > 0:\n",
    "                    l_n -= 1\n",
    "                else:\n",
    "                    r_n += 1\n",
    "        if l_n == 0 and r_n == 0:\n",
    "            return True\n",
    "        return False\n",
    "    \n",
    "    def fun(self, s1, s2, l_n, r_n, result):\n",
    "        if l_n == 0 and r_n == 0 and self.is_valid(s1+s2):\n",
    "            result.add(f'{s1}{s2}')\n",
    "            return\n",
    "        if s2 == '':\n",
    "            return\n",
    "        if s2[0] == '(' and l_n > 0:\n",
    "            self.fun(s1, s2[1:], l_n-1, r_n, result)\n",
    "        elif s2[0] == ')' and r_n > 0:\n",
    "            self.fun(s1, s2[1:], l_n, r_n-1, result)\n",
    "        self.fun(f'{s1}{s2[0]}', s2[1:], l_n, r_n, result)\n",
    "        return\n",
    "            \n",
    "            \n",
    "    def removeInvalidParentheses(self, s):\n",
    "        #遍历字符串 找出应当删掉左右括号的个数\n",
    "        l_n = 0\n",
    "        r_n = 0\n",
    "        for c in s:\n",
    "            if c == '(':\n",
    "                l_n += 1\n",
    "            elif c == ')':\n",
    "                if l_n > 0:\n",
    "                    l_n -= 1\n",
    "                else:\n",
    "                    r_n += 1\n",
    "        \n",
    "        result = set()\n",
    "        self.fun('', s, l_n, r_n, result)\n",
    "        return list(result)"
   ]
  },
  {
   "cell_type": "code",
   "execution_count": null,
   "metadata": {},
   "outputs": [],
   "source": []
  },
  {
   "cell_type": "code",
   "execution_count": null,
   "metadata": {},
   "outputs": [],
   "source": []
  },
  {
   "cell_type": "code",
   "execution_count": null,
   "metadata": {},
   "outputs": [],
   "source": []
  }
 ],
 "metadata": {
  "kernelspec": {
   "display_name": "Python 3",
   "language": "python",
   "name": "python3"
  },
  "language_info": {
   "codemirror_mode": {
    "name": "ipython",
    "version": 3
   },
   "file_extension": ".py",
   "mimetype": "text/x-python",
   "name": "python",
   "nbconvert_exporter": "python",
   "pygments_lexer": "ipython3",
   "version": "3.6.5"
  }
 },
 "nbformat": 4,
 "nbformat_minor": 2
}
