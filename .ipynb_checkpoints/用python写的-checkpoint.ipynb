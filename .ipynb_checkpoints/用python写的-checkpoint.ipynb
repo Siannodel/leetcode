{
 "cells": [
  {
   "cell_type": "markdown",
   "metadata": {},
   "source": [
    "### 529"
   ]
  },
  {
   "cell_type": "code",
   "execution_count": 18,
   "metadata": {},
   "outputs": [],
   "source": [
    "class Solution:\n",
    "    def getAdjoinPoint(self, point, h, w):\n",
    "        points = []\n",
    "        for i in range(3):\n",
    "            for j in range(3):\n",
    "                if ((i != 1 or j != 1) and \n",
    "                    point[0]-1+i >= 0 and point[0]-1+i < w and \n",
    "                    point[1]-1+j >= 0 and point[1]-1+j < h):\n",
    "                    points.append([point[0]-1+i, point[1]-1+j])\n",
    "        return points\n",
    "    \n",
    "    def fun1(self, board, point):\n",
    "        \n",
    "        h = len(board)\n",
    "        w = len(board[0])\n",
    "        #邻接点\n",
    "        points = self.getAdjoinPoint(point, h, w)\n",
    "        #查找周围的雷\n",
    "        count = 0\n",
    "        for p in points:\n",
    "            if (board[p[1]][p[0]] == 'M'):\n",
    "                count+=1\n",
    "        #周围有雷 计数\n",
    "        if count != 0:\n",
    "            board[point[1]][point[0]] == str(count)\n",
    "            return\n",
    "        #没有雷 递归\n",
    "        board[point[1]][point[0]] == 'B'\n",
    "        for p in points:\n",
    "            if (board[p[1]][p[0]] == 'E'):\n",
    "                self.fun1(board, p)\n",
    "        return\n",
    "        \n",
    "        \n",
    "    def updateBoard(self, board, click):\n",
    "        h = len(board)\n",
    "        w = len(board[0])\n",
    "        x = click[1]\n",
    "        y = click[0]\n",
    "        #踩雷\n",
    "        if board[y][x] == 'M':\n",
    "            board[y][x] == 'X'\n",
    "            return board\n",
    "        self.fun1(board, [x,y])\n",
    "        return board"
   ]
  },
  {
   "cell_type": "code",
   "execution_count": 16,
   "metadata": {},
   "outputs": [],
   "source": [
    "s = Solution()\n",
    "points = s.getAdjoinPoint([2,2], 3, 3)"
   ]
  },
  {
   "cell_type": "code",
   "execution_count": 17,
   "metadata": {},
   "outputs": [
    {
     "data": {
      "text/plain": [
       "[[1, 1], [1, 2], [2, 1]]"
      ]
     },
     "execution_count": 17,
     "metadata": {},
     "output_type": "execute_result"
    }
   ],
   "source": [
    "points"
   ]
  },
  {
   "cell_type": "code",
   "execution_count": 19,
   "metadata": {},
   "outputs": [
    {
     "name": "stdout",
     "output_type": "stream",
     "text": [
      "0\n",
      "1\n",
      "2\n"
     ]
    }
   ],
   "source": [
    "for i in range(3):\n",
    "    print(i)"
   ]
  },
  {
   "cell_type": "code",
   "execution_count": null,
   "metadata": {},
   "outputs": [],
   "source": []
  }
 ],
 "metadata": {
  "kernelspec": {
   "display_name": "Python 3",
   "language": "python",
   "name": "python3"
  },
  "language_info": {
   "codemirror_mode": {
    "name": "ipython",
    "version": 3
   },
   "file_extension": ".py",
   "mimetype": "text/x-python",
   "name": "python",
   "nbconvert_exporter": "python",
   "pygments_lexer": "ipython3",
   "version": "3.6.5"
  }
 },
 "nbformat": 4,
 "nbformat_minor": 2
}
